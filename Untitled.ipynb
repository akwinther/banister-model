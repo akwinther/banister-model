{
 "cells": [
  {
   "cell_type": "markdown",
   "metadata": {},
   "source": [
    "However, <cite data-cite=\"8517752/S9X8C4W3\"> does not.\n",
    "\n"
   ]
  },
  {
   "cell_type": "markdown",
   "metadata": {},
   "source": [
    "# References\n",
    "\n",
    "</cite><div class=\"cite2c-biblio\"></div>"
   ]
  },
  {
   "cell_type": "code",
   "execution_count": null,
   "metadata": {},
   "outputs": [],
   "source": []
  }
 ],
 "metadata": {
  "cite2c": {
   "citations": {
    "8517752/S9X8C4W3": {
     "author": [
      {
       "family": "Taha",
       "given": "Tim"
      },
      {
       "family": "Thomas",
       "given": "Scott G."
      }
     ],
     "container-title": "Sports Medicine",
     "id": "8517752/S9X8C4W3",
     "issue": "14",
     "issued": {
      "year": 2003
     },
     "page": "1061–1073",
     "page-first": "1061",
     "title": "Systems modelling of the relationship between training and performance",
     "type": "article-journal",
     "volume": "33"
    }
   }
  },
  "kernelspec": {
   "display_name": "Python 3",
   "language": "python",
   "name": "python3"
  },
  "language_info": {
   "codemirror_mode": {
    "name": "ipython",
    "version": 3
   },
   "file_extension": ".py",
   "mimetype": "text/x-python",
   "name": "python",
   "nbconvert_exporter": "python",
   "pygments_lexer": "ipython3",
   "version": "3.7.6"
  }
 },
 "nbformat": 4,
 "nbformat_minor": 4
}
