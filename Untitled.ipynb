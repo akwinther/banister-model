{
 "cells": [
  {
   "cell_type": "markdown",
   "metadata": {},
   "source": [
    "# Introduction\n",
    "\n",
    "In this tutorial I’ll show how to model the performance of several subjects using the Banister impulse~response (IR) model. Before starting I highly recommend checking out [this](https://www.ncbi.nlm.nih.gov/pubmed/23728131) fantastic resource by Clarke & Skiba (2013), which I’ll be referencing a lot throughout this post. I also urge you to check out these posts ([here](https://complementarytraining.net/banister-impulseresponse-model-in-r/), and [here](https://complementarytraining.net/predicting-injuries-using-bannister-model/)) by Mladen Jovanovic, where he shares some creative ideas on how to use Banister modelling for both performance and injury prediction. Lastly, the data we’ll be using can be found in [this](https://www.nature.com/articles/srep40422) excellent article by Thierry Busso (2017), who has done a lot of research into the modelling of the dose-response relationship between training and performance. A massive thanks to him and his contribution to open science!\n",
    "\n"
   ]
  },
  {
   "cell_type": "markdown",
   "metadata": {},
   "source": [
    "# References\n",
    "\n",
    "Clarke, D. C., & Skiba, P. F. (2013). Rationale and resources for teaching the mathematical modeling of athletic training and performance. Advances in physiology education."
   ]
  },
  {
   "cell_type": "code",
   "execution_count": 1,
   "metadata": {},
   "outputs": [
    {
     "data": {
      "text/plain": [
       "2"
      ]
     },
     "execution_count": 1,
     "metadata": {},
     "output_type": "execute_result"
    }
   ],
   "source": [
    "1+1"
   ]
  }
 ],
 "metadata": {
  "cite2c": {
   "citations": {
    "8517752/S9X8C4W3": {
     "author": [
      {
       "family": "Taha",
       "given": "Tim"
      },
      {
       "family": "Thomas",
       "given": "Scott G."
      }
     ],
     "container-title": "Sports Medicine",
     "id": "8517752/S9X8C4W3",
     "issue": "14",
     "issued": {
      "year": 2003
     },
     "page": "1061–1073",
     "page-first": "1061",
     "title": "Systems modelling of the relationship between training and performance",
     "type": "article-journal",
     "volume": "33"
    }
   }
  },
  "kernelspec": {
   "display_name": "Python 3",
   "language": "python",
   "name": "python3"
  },
  "language_info": {
   "codemirror_mode": {
    "name": "ipython",
    "version": 3
   },
   "file_extension": ".py",
   "mimetype": "text/x-python",
   "name": "python",
   "nbconvert_exporter": "python",
   "pygments_lexer": "ipython3",
   "version": "3.7.6"
  }
 },
 "nbformat": 4,
 "nbformat_minor": 4
}
